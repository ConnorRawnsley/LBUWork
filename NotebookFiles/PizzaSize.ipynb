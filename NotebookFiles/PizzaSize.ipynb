{
 "cells": [
  {
   "cell_type": "code",
   "execution_count": 1,
   "id": "2afa0226",
   "metadata": {},
   "outputs": [
    {
     "name": "stdout",
     "output_type": "stream",
     "text": [
      "A 9-inch pizza has an area of 63.62 square inches.\n",
      "So in total you have a total pizza area of 127.23 square inches.\n"
     ]
    }
   ],
   "source": [
    "from math import pi\n",
    "\n",
    "if __name__ == \"__main__\":\n",
    "    pizza_size = int(9) \n",
    "    number_of_pizzas = int(2)\n",
    "\n",
    "    pizza_area = pi * (pizza_size / 2) ** 2\n",
    "    total_area = pizza_area * number_of_pizzas\n",
    "\n",
    "    print(f\"A {pizza_size}-inch pizza has an area of {pizza_area:.2f} square inches.\")\n",
    "    print(f\"So in total you have a total pizza area of {total_area:.2f} square inches.\")"
   ]
  }
 ],
 "metadata": {
  "kernelspec": {
   "display_name": "Python 3",
   "language": "python",
   "name": "python3"
  },
  "language_info": {
   "codemirror_mode": {
    "name": "ipython",
    "version": 3
   },
   "file_extension": ".py",
   "mimetype": "text/x-python",
   "name": "python",
   "nbconvert_exporter": "python",
   "pygments_lexer": "ipython3",
   "version": "3.13.3"
  }
 },
 "nbformat": 4,
 "nbformat_minor": 5
}
