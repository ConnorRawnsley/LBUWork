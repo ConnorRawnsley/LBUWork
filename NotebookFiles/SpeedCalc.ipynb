{
 "cells": [
  {
   "cell_type": "code",
   "execution_count": 1,
   "id": "d0f06620",
   "metadata": {},
   "outputs": [
    {
     "name": "stdout",
     "output_type": "stream",
     "text": [
      "Travelling 100 miles in 60 minutes is equivalent to 100.00 mph, which is way too fast!\n"
     ]
    }
   ],
   "source": [
    "if __name__ == \"__main__\":\n",
    "    distance = int(input(\"Enter the distance in miles:\"))\n",
    "    time = int(input(\"Enter the time in minutes:\"))\n",
    "\n",
    "    if distance > 0 and time > 0:\n",
    "        mph = int(distance / (time / 60))\n",
    "\n",
    "        if mph < 75:\n",
    "            print(\n",
    "                f\"Travelling\", distance, \"miles in {time} minutes is equivalent to {mph:.2f} mph.\"\n",
    "            )\n",
    "        else:\n",
    "            print(\n",
    "                f\"Travelling {distance} miles in {time} minutes is equivalent to {mph:.2f} mph, which is way too fast!\"\n",
    "            )\n",
    "    else:\n",
    "        print(\"Distance and time must be greater than zero! Please try again.\")"
   ]
  }
 ],
 "metadata": {
  "kernelspec": {
   "display_name": "Python 3",
   "language": "python",
   "name": "python3"
  },
  "language_info": {
   "codemirror_mode": {
    "name": "ipython",
    "version": 3
   },
   "file_extension": ".py",
   "mimetype": "text/x-python",
   "name": "python",
   "nbconvert_exporter": "python",
   "pygments_lexer": "ipython3",
   "version": "3.13.3"
  }
 },
 "nbformat": 4,
 "nbformat_minor": 5
}
