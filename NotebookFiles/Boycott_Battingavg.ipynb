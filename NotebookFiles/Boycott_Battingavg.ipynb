{
 "cells": [
  {
   "cell_type": "code",
   "execution_count": 2,
   "id": "538303dc",
   "metadata": {},
   "outputs": [
    {
     "name": "stdout",
     "output_type": "stream",
     "text": [
      "Sir Geoffrey Boycott's Batting Average is 1.25\n"
     ]
    }
   ],
   "source": [
    "if __name__ == \"__main__\":\n",
    "    runs_scored = int(input(\"How many runs have you scored?\"))\n",
    "    times_batted = int(input(\"How many times did you step up to bat?\"))\n",
    "    times_not_out = int(input(\"How many times were you not out?\"))\n",
    "    batting_average = runs_scored / (times_batted - times_not_out)\n",
    "\n",
    "    print(\"Sir Geoffrey Boycott's Batting Average is\", batting_average,)"
   ]
  },
  {
   "cell_type": "code",
   "execution_count": 3,
   "id": "238eda8f",
   "metadata": {},
   "outputs": [
    {
     "name": "stdout",
     "output_type": "stream",
     "text": [
      "Boycott's runs scored were 100\n"
     ]
    }
   ],
   "source": [
    "print(\"Boycott's runs scored were\",runs_scored)"
   ]
  }
 ],
 "metadata": {
  "kernelspec": {
   "display_name": "Python 3",
   "language": "python",
   "name": "python3"
  },
  "language_info": {
   "codemirror_mode": {
    "name": "ipython",
    "version": 3
   },
   "file_extension": ".py",
   "mimetype": "text/x-python",
   "name": "python",
   "nbconvert_exporter": "python",
   "pygments_lexer": "ipython3",
   "version": "3.13.3"
  }
 },
 "nbformat": 4,
 "nbformat_minor": 5
}
