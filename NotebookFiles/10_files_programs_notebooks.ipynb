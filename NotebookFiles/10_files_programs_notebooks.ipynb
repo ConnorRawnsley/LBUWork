{
 "cells": [
  {
   "cell_type": "markdown",
   "id": "5d315afc",
   "metadata": {
    "slideshow": {
     "slide_type": "slide"
    }
   },
   "source": [
    "# Notebooks and Files\n",
    "\n",
    "In the introduction we will try to understand what a program really is.\n",
    "\n",
    "It's basically a set of instructions, stored in a file.\n",
    "\n",
    "We will also meet <em>Jupyter Notebooks</em>, a special type of file that can combine programs and notes."
   ]
  },
  {
   "cell_type": "markdown",
   "id": "ea50d3cd",
   "metadata": {
    "slideshow": {
     "slide_type": "slide"
    }
   },
   "source": [
    "## Programs are Files\n",
    "\n",
    "A program is stored in a file (or, with larger programs, a collection of files). The format of the file is just _plain text_, which means that a program can be created and edited with many different tools.\n",
    "\n",
    "Usually the file extension gives a clue about the language used for the program. So:\n",
    "- `.py` indicates a Python program.\n",
    "- `.rb` is a program in Ruby.\n",
    "- `.java` is a Java program (strictly a Java _class_). \n",
    "\n",
    "and many more."
   ]
  },
  {
   "cell_type": "markdown",
   "id": "3f53da9d",
   "metadata": {
    "slideshow": {
     "slide_type": "slide"
    }
   },
   "source": [
    "## The Naming of Files\n",
    "\n",
    "Java has special rules about the names of files, but most languages allow the programmer to choose. Obviously the name chosen should give some idea of the purpose of the program. So good names for files containing Python programs might be:\n",
    "- `calculate_grades.py`\n",
    "- `check_servers.py`\n",
    "- `encrypt_message_file.py`\n",
    "\n",
    "Generally putting spaces in a file name is a _bad idea_. We use underscores, as above."
   ]
  },
  {
   "cell_type": "markdown",
   "id": "f37751b4",
   "metadata": {
    "slideshow": {
     "slide_type": "slide"
    }
   },
   "source": [
    "## Why Plain Text?\n",
    "\n",
    "There are two main advantages of using plain text like this:\n",
    "1. The format has been around (literally) since the start of (electronic) Programming. We can open files written in the 1960s, because they are in this format. We can be reasonably confident that we will always be able to open plain text files.\n",
    "2. We can easily detect differences between versions of program files. Which in turn means we can store versions of the files in a _Version Control System_, like Git. More on that later."
   ]
  },
  {
   "cell_type": "markdown",
   "id": "816a0659",
   "metadata": {
    "slideshow": {
     "slide_type": "slide"
    }
   },
   "source": [
    "## Applications are Different\n",
    "\n",
    "You may be used to a different world, where files and applications are closely linked. We sometimes think of \"Word Files\" or \"PhotoShop Files\". It makes no sense to open a Word file in PhotoShop, or the other way round. \n",
    "\n",
    "Program files, being plain text do not work that way.\n",
    "\n",
    "So, it is important not to think of \"Python Files\". A Python program is just a plain text file, and we can open it using any one of (probably) hundreds of applications. That difference is _very important_, especially if you plan to use Microsoft Windows, which tries to hide this important distinction."
   ]
  },
  {
   "cell_type": "markdown",
   "id": "911c8326",
   "metadata": {
    "slideshow": {
     "slide_type": "slide"
    }
   },
   "source": [
    "## What about Notebooks?\n",
    "\n",
    "Jupyter Notebooks contain program code, along with documentation, or notes.\n",
    "\n",
    "The Programs are in Python. The notes are in a format called _Markdown_. These are stored together in another format called JSON. If you look at the Notebook file for these notes you will probably be able to see roughly how it works.\n",
    "\n",
    "Many tools are able to use the JSON to present the contents of the Notebook in a convenient way. But it is still _plain text_. Take\n",
    "a look at a `.ipynb` file and you'll see."
   ]
  },
  {
   "cell_type": "markdown",
   "id": "18c5e55a",
   "metadata": {
    "slideshow": {
     "slide_type": "slide"
    }
   },
   "source": [
    "## Demo\n",
    "\n",
    "To end, we'll look at some program files and Notebooks.\n",
    "\n",
    "It really is _very important_ to understand what's going on here, especially as Windows hides so much."
   ]
  }
 ],
 "metadata": {
  "language_info": {
   "name": "python"
  }
 },
 "nbformat": 4,
 "nbformat_minor": 5
}
