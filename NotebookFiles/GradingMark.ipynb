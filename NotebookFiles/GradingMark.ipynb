{
 "cells": [
  {
   "cell_type": "code",
   "execution_count": null,
   "id": "1856143e",
   "metadata": {},
   "outputs": [
    {
     "name": "stdout",
     "output_type": "stream",
     "text": [
      "your grade is out of the range\n"
     ]
    }
   ],
   "source": [
    "if __name__ == \"__main__\":\n",
    "    try:\n",
    "        mark = int(input(\"Enter a mark (0-100): \"))\n",
    "\n",
    "        if 0 > mark or mark > 101:\n",
    "            print(\"Your mark is out of the range\")\n",
    "        elif mark >= 70:\n",
    "            print(\"Grade is Distinction\")\n",
    "        elif mark >= 60:\n",
    "            print(\"Grade is Merit\")\n",
    "        elif mark >= 50:\n",
    "            print(\"Grade is Pass\")\n",
    "        else:\n",
    "            print(\"Grade is Fail\")\n",
    "    except ValueError:\n",
    "        print(\"Invalid input, please enter a numeric value.\")"
   ]
  }
 ],
 "metadata": {
  "kernelspec": {
   "display_name": "Python 3",
   "language": "python",
   "name": "python3"
  },
  "language_info": {
   "codemirror_mode": {
    "name": "ipython",
    "version": 3
   },
   "file_extension": ".py",
   "mimetype": "text/x-python",
   "name": "python",
   "nbconvert_exporter": "python",
   "pygments_lexer": "ipython3",
   "version": "3.13.3"
  }
 },
 "nbformat": 4,
 "nbformat_minor": 5
}
