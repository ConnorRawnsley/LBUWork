{
 "cells": [
  {
   "cell_type": "code",
   "execution_count": null,
   "id": "4e60a172",
   "metadata": {},
   "outputs": [],
   "source": [
    "if __name__ == \"__main__\":\n",
    "    runs_scored = int(input(\"How many runs have you scored?\"))\n",
    "    times_batted = int(input(\"How many times did you step up to bat?\"))\n",
    "    times_not_out = int(input(\"How many times were you not out?\"))\n",
    "    batting_average = runs_scored / (times_batted - times_not_out)\n",
    "\n",
    "    print(\"Sir Geoffrey Boycott's Batting Average is\", batting_average,)"
   ]
  }
 ],
 "metadata": {
  "kernelspec": {
   "display_name": "Python 3",
   "language": "python",
   "name": "python3"
  },
  "language_info": {
   "name": "python",
   "version": "3.13.3"
  }
 },
 "nbformat": 4,
 "nbformat_minor": 5
}
