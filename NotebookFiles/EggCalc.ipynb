{
 "cells": [
  {
   "cell_type": "code",
   "execution_count": 1,
   "id": "c64c9c6d",
   "metadata": {},
   "outputs": [
    {
     "name": "stdout",
     "output_type": "stream",
     "text": [
      "With  2345  eggs, we can fill 195  boxes of twelve,  0 boxes of six, and have 5  eggs left over.\n"
     ]
    }
   ],
   "source": [
    "if __name__ == \"__main__\":\n",
    "\n",
    "    number_of_eggs = int(input(\"how many Eggs do you have\"))\n",
    "    boxes_of_twelve = number_of_eggs // 12\n",
    "    boxes_of_six = (number_of_eggs % 12) // 6\n",
    "    left_over = number_of_eggs - (boxes_of_twelve * 12 + boxes_of_six * 6)\n",
    "\n",
    "print(\"With \", number_of_eggs, \" eggs, we can fill\", boxes_of_twelve, \" boxes of twelve, \"\n",
    "      , boxes_of_six, \"boxes of six, and have\", left_over, \" eggs left over.\")"
   ]
  }
 ],
 "metadata": {
  "kernelspec": {
   "display_name": "Python 3",
   "language": "python",
   "name": "python3"
  },
  "language_info": {
   "codemirror_mode": {
    "name": "ipython",
    "version": 3
   },
   "file_extension": ".py",
   "mimetype": "text/x-python",
   "name": "python",
   "nbconvert_exporter": "python",
   "pygments_lexer": "ipython3",
   "version": "3.13.3"
  }
 },
 "nbformat": 4,
 "nbformat_minor": 5
}
